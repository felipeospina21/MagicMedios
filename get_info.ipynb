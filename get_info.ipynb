{
 "cells": [
  {
   "cell_type": "code",
   "execution_count": 65,
   "source": [
    "from selenium import webdriver\r\n",
    "from selenium.webdriver.common.keys import Keys\r\n",
    "import time\r\n",
    "import sys"
   ],
   "outputs": [],
   "metadata": {}
  },
  {
   "cell_type": "code",
   "execution_count": 66,
   "source": [
    "path = \"C:/chromedriver.exe\"\r\n",
    "driver = webdriver.Chrome(path)\r\n",
    "driver.get('https://www.catalogospromocionales.com/')"
   ],
   "outputs": [],
   "metadata": {}
  },
  {
   "cell_type": "code",
   "execution_count": 67,
   "source": [
    "search_input = driver.find_element_by_id('productos')\r\n",
    "search_input.send_keys('CP-177')\r\n",
    "search_btn = driver.find_element_by_xpath(\"//input[@id='productos']/following-sibling::a\")\r\n",
    "search_btn.click()"
   ],
   "outputs": [],
   "metadata": {}
  },
  {
   "cell_type": "code",
   "execution_count": 68,
   "source": [
    "result = driver.find_element_by_xpath(\"//div[@id='backTable']/div[1]/div[1]/a[1]\")\r\n",
    "result.click()"
   ],
   "outputs": [],
   "metadata": {}
  },
  {
   "cell_type": "code",
   "execution_count": 108,
   "source": [
    "ref_str = \"cp-104, cp-105,cp-200\".replace(\" \", \"\").split(\",\")\r\n",
    "# ref_list = ref_str\r\n",
    "# for element in ref_list:\r\n",
    "#     element.strip()\r\n",
    "\r\n",
    "len(ref_str)"
   ],
   "outputs": [
    {
     "output_type": "execute_result",
     "data": {
      "text/plain": [
       "3"
      ]
     },
     "metadata": {},
     "execution_count": 108
    }
   ],
   "metadata": {}
  },
  {
   "cell_type": "code",
   "execution_count": 69,
   "source": [
    "header = \"//div[@class='hola']\"\r\n",
    "title = driver.find_element_by_xpath(f\"{header}/h2[1]\")\r\n",
    "ref = driver.find_element_by_xpath(f\"{header}/p[1]\")\r\n",
    "desc = driver.find_element_by_xpath(f\"{header}/p[2]\")\r\n",
    "title_text = title.text\r\n",
    "ref_text = ref.text\r\n",
    "desc_text = desc.text\r\n",
    "print(title.text)\r\n",
    "print(ref.text)\r\n",
    "print(desc.text)"
   ],
   "outputs": [
    {
     "output_type": "stream",
     "name": "stdout",
     "text": [
      "Espejo Magnolia\n",
      "CP-177\n",
      "Espejo plástico.\n",
      "Medidas: 6 cm x 6 cm\n",
      "Marca: 4 cm / Tampografía\n",
      "\n",
      "Venta mínima y en múltiplos de caja de 100 unidades.\n"
     ]
    }
   ],
   "metadata": {}
  },
  {
   "cell_type": "code",
   "execution_count": 70,
   "source": [
    "table = \"//table[@class='table-list']\"\r\n",
    "table_col_1 = driver.find_element_by_xpath(f\"{table}/tbody[1]/tr[1]/td[1]\")\r\n",
    "table_col_2 = driver.find_element_by_xpath(f\"{table}/tbody[1]/tr[1]/td[2]\")\r\n",
    "col_1_text = table_col_1.text\r\n",
    "col_2_text = table_col_2.text\r\n",
    "print(table_col_1.text, table_col_2.text)"
   ],
   "outputs": [
    {
     "output_type": "stream",
     "name": "stdout",
     "text": [
      "Unidades por Caja: 500   Unidades\n"
     ]
    }
   ],
   "metadata": {}
  },
  {
   "cell_type": "code",
   "execution_count": 71,
   "source": [
    "img = driver.find_element_by_id(\"img_01\")\r\n",
    "img_src = img.get_attribute('src')\r\n",
    "print(img_src)"
   ],
   "outputs": [
    {
     "output_type": "stream",
     "name": "stdout",
     "text": [
      "https://catalogospromocionales.com/images/productos/7387.jpg\n"
     ]
    }
   ],
   "metadata": {}
  },
  {
   "cell_type": "code",
   "execution_count": null,
   "source": [
    "table_inv = \"//table[@class='tableInfoProd']\""
   ],
   "outputs": [],
   "metadata": {}
  },
  {
   "cell_type": "code",
   "execution_count": 72,
   "source": [
    "import requests\r\n",
    "\r\n",
    "response = requests.get(img_src)\r\n",
    "\r\n",
    "file = open(\"sample_image.jpg\", \"wb\")\r\n",
    "file.write(response.content)\r\n",
    "file.close()"
   ],
   "outputs": [],
   "metadata": {}
  },
  {
   "cell_type": "code",
   "execution_count": 78,
   "source": [
    "from docx import Document\r\n",
    "from docx.shared import Inches\r\n",
    "\r\n",
    "document = Document()"
   ],
   "outputs": [],
   "metadata": {}
  },
  {
   "cell_type": "code",
   "execution_count": null,
   "source": [
    "document.add_paragraph(f'1.{title_text} {ref_text}')\r\n",
    "document.add_paragraph(desc_text)\r\n",
    "word_table = document.add_table(rows=1, cols=2)\r\n",
    "table_cells = word_table.rows[0].cells\r\n",
    "table_cells[0].text = col_1_text\r\n",
    "table_cells[1].text = col_2_text\r\n",
    "document.add_picture(\"sample_image.jpg\", width=Inches(1.25))\r\n",
    "document.save(\"test.docx\")"
   ],
   "outputs": [],
   "metadata": {}
  },
  {
   "cell_type": "code",
   "execution_count": 85,
   "source": [
    "document = Document('plantilla_cot.docx')\r\n",
    "\r\n",
    "titulo = document.add_paragraph()\r\n",
    "run = titulo.add_run(f'1.{title_text} {ref_text}').bold = True\r\n",
    "\r\n",
    "document.add_paragraph(desc_text)\r\n",
    "paragraph = document.add_paragraph(f'{col_1_text} ')\r\n",
    "run = paragraph.add_run(col_2_text).bold = True\r\n",
    "\r\n",
    "document.add_picture(\"sample_image.jpg\", width=Inches(5.25))\r\n",
    "document.save('plantilla_test.docx')"
   ],
   "outputs": [],
   "metadata": {}
  }
 ],
 "metadata": {
  "orig_nbformat": 4,
  "language_info": {
   "name": "python",
   "version": "3.8.8",
   "mimetype": "text/x-python",
   "codemirror_mode": {
    "name": "ipython",
    "version": 3
   },
   "pygments_lexer": "ipython3",
   "nbconvert_exporter": "python",
   "file_extension": ".py"
  },
  "kernelspec": {
   "name": "python3",
   "display_name": "Python 3.8.8 64-bit ('myenv': conda)"
  },
  "interpreter": {
   "hash": "8db679add2240d0787ec4f13d1046a08c743bd9ff209e026fcd863bce16c5bf8"
  }
 },
 "nbformat": 4,
 "nbformat_minor": 2
}